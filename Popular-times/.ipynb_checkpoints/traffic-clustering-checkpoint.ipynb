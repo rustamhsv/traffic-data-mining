{
 "cells": [
  {
   "cell_type": "code",
   "execution_count": 146,
   "id": "e6697c59-97ed-426a-8d07-36d31ef6cf6d",
   "metadata": {},
   "outputs": [],
   "source": [
    "import numpy as np\n",
    "import pandas as pd\n",
    "import json\n",
    "import matplotlib.pyplot as plt\n",
    "import scipy.stats as stats\n",
    "from scipy import optimize\n",
    "from sklearn.cluster import KMeans"
   ]
  },
  {
   "cell_type": "code",
   "execution_count": 10,
   "id": "dae45d21-366a-4ac9-b42b-5f403a7f5e4b",
   "metadata": {},
   "outputs": [],
   "source": [
    "df = pd.read_csv('Onlive_populartimes_20211201-072244.csv', dtype = str,encoding='utf-8',delimiter = ',')"
   ]
  },
  {
   "cell_type": "code",
   "execution_count": 11,
   "id": "73d13b3d-cec4-4fd0-bb53-a6ef8787d56f",
   "metadata": {},
   "outputs": [
    {
     "data": {
      "text/html": [
       "<div>\n",
       "<style scoped>\n",
       "    .dataframe tbody tr th:only-of-type {\n",
       "        vertical-align: middle;\n",
       "    }\n",
       "\n",
       "    .dataframe tbody tr th {\n",
       "        vertical-align: top;\n",
       "    }\n",
       "\n",
       "    .dataframe thead th {\n",
       "        text-align: right;\n",
       "    }\n",
       "</style>\n",
       "<table border=\"1\" class=\"dataframe\">\n",
       "  <thead>\n",
       "    <tr style=\"text-align: right;\">\n",
       "      <th></th>\n",
       "      <th>place_id</th>\n",
       "      <th>name</th>\n",
       "      <th>lat</th>\n",
       "      <th>lon</th>\n",
       "      <th>node_type</th>\n",
       "      <th>address</th>\n",
       "      <th>place</th>\n",
       "      <th>popular_times</th>\n",
       "      <th>rating</th>\n",
       "      <th>rating_n</th>\n",
       "      <th>current_popularity</th>\n",
       "      <th>time_spent</th>\n",
       "    </tr>\n",
       "  </thead>\n",
       "  <tbody>\n",
       "    <tr>\n",
       "      <th>895</th>\n",
       "      <td>ChIJzWj-GUfaQUcRXkOpk4dtd80</td>\n",
       "      <td>Újpesti rendelőintézet</td>\n",
       "      <td>47.5654325</td>\n",
       "      <td>19.1002595</td>\n",
       "      <td>transit_station</td>\n",
       "      <td>Hungary</td>\n",
       "      <td>Újpesti rendelőintézet Hungary budapest</td>\n",
       "      <td>[{'name': 'Monday', 'data': [0, 0, 0, 0, 0, 0,...</td>\n",
       "      <td>3.2</td>\n",
       "      <td>74</td>\n",
       "      <td>19</td>\n",
       "      <td>[20, 60]</td>\n",
       "    </tr>\n",
       "    <tr>\n",
       "      <th>896</th>\n",
       "      <td>ChIJzZCWrKTdQUcRZtcWSjdk0ys</td>\n",
       "      <td>Unix</td>\n",
       "      <td>47.4536063</td>\n",
       "      <td>19.044826500000003</td>\n",
       "      <td>car_repair</td>\n",
       "      <td>Budapest, Kondorosi út 3</td>\n",
       "      <td>Unix Budapest, Kondorosi út 3 budapest</td>\n",
       "      <td>[{'name': 'Monday', 'data': [0, 0, 0, 0, 0, 0,...</td>\n",
       "      <td>4.6</td>\n",
       "      <td>239</td>\n",
       "      <td>33</td>\n",
       "      <td>[20, 20]</td>\n",
       "    </tr>\n",
       "    <tr>\n",
       "      <th>897</th>\n",
       "      <td>ChIJz_UxC-nnQUcRfkrTW6ZslLI</td>\n",
       "      <td>Shell</td>\n",
       "      <td>47.4184146</td>\n",
       "      <td>19.0637461</td>\n",
       "      <td>bakery</td>\n",
       "      <td>Budapest, II. Rákóczi Ferenc utca 182</td>\n",
       "      <td>Shell Budapest, II. Rákóczi Ferenc utca 182 bu...</td>\n",
       "      <td>[{'name': 'Monday', 'data': [1, 1, 1, 1, 4, 14...</td>\n",
       "      <td>4.2</td>\n",
       "      <td>137</td>\n",
       "      <td>39</td>\n",
       "      <td>[10, 10]</td>\n",
       "    </tr>\n",
       "    <tr>\n",
       "      <th>898</th>\n",
       "      <td>ChIJzaz1rpXGQUcRX-8gFISvZXE</td>\n",
       "      <td>Almásháza Barkácsháza</td>\n",
       "      <td>47.50124279999999</td>\n",
       "      <td>19.286295199999998</td>\n",
       "      <td>hardware_store</td>\n",
       "      <td>Budapest, Almásháza utca 124</td>\n",
       "      <td>Almásháza Barkácsháza Budapest, Almásháza utca...</td>\n",
       "      <td>[{'name': 'Monday', 'data': [0, 0, 0, 0, 0, 0,...</td>\n",
       "      <td>4.1</td>\n",
       "      <td>165</td>\n",
       "      <td>16</td>\n",
       "      <td>[10, 10]</td>\n",
       "    </tr>\n",
       "    <tr>\n",
       "      <th>899</th>\n",
       "      <td>ChIJzemtVvjoQUcRkb5VxSwWiL4</td>\n",
       "      <td>Lidl</td>\n",
       "      <td>47.3851843</td>\n",
       "      <td>19.1088023</td>\n",
       "      <td>store</td>\n",
       "      <td>Budapest, Haraszti út 34</td>\n",
       "      <td>Lidl Budapest, Haraszti út 34 budapest</td>\n",
       "      <td>[{'name': 'Monday', 'data': [0, 0, 0, 0, 0, 0,...</td>\n",
       "      <td>4.4</td>\n",
       "      <td>1706</td>\n",
       "      <td>15</td>\n",
       "      <td>[25, 25]</td>\n",
       "    </tr>\n",
       "  </tbody>\n",
       "</table>\n",
       "</div>"
      ],
      "text/plain": [
       "                        place_id                    name                lat  \\\n",
       "895  ChIJzWj-GUfaQUcRXkOpk4dtd80  Újpesti rendelőintézet         47.5654325   \n",
       "896  ChIJzZCWrKTdQUcRZtcWSjdk0ys                    Unix         47.4536063   \n",
       "897  ChIJz_UxC-nnQUcRfkrTW6ZslLI                   Shell         47.4184146   \n",
       "898  ChIJzaz1rpXGQUcRX-8gFISvZXE   Almásháza Barkácsháza  47.50124279999999   \n",
       "899  ChIJzemtVvjoQUcRkb5VxSwWiL4                    Lidl         47.3851843   \n",
       "\n",
       "                    lon        node_type  \\\n",
       "895          19.1002595  transit_station   \n",
       "896  19.044826500000003       car_repair   \n",
       "897          19.0637461           bakery   \n",
       "898  19.286295199999998   hardware_store   \n",
       "899          19.1088023            store   \n",
       "\n",
       "                                   address  \\\n",
       "895                                Hungary   \n",
       "896               Budapest, Kondorosi út 3   \n",
       "897  Budapest, II. Rákóczi Ferenc utca 182   \n",
       "898           Budapest, Almásháza utca 124   \n",
       "899               Budapest, Haraszti út 34   \n",
       "\n",
       "                                                 place  \\\n",
       "895            Újpesti rendelőintézet Hungary budapest   \n",
       "896             Unix Budapest, Kondorosi út 3 budapest   \n",
       "897  Shell Budapest, II. Rákóczi Ferenc utca 182 bu...   \n",
       "898  Almásháza Barkácsháza Budapest, Almásháza utca...   \n",
       "899             Lidl Budapest, Haraszti út 34 budapest   \n",
       "\n",
       "                                         popular_times rating rating_n  \\\n",
       "895  [{'name': 'Monday', 'data': [0, 0, 0, 0, 0, 0,...    3.2       74   \n",
       "896  [{'name': 'Monday', 'data': [0, 0, 0, 0, 0, 0,...    4.6      239   \n",
       "897  [{'name': 'Monday', 'data': [1, 1, 1, 1, 4, 14...    4.2      137   \n",
       "898  [{'name': 'Monday', 'data': [0, 0, 0, 0, 0, 0,...    4.1      165   \n",
       "899  [{'name': 'Monday', 'data': [0, 0, 0, 0, 0, 0,...    4.4     1706   \n",
       "\n",
       "    current_popularity time_spent  \n",
       "895                 19   [20, 60]  \n",
       "896                 33   [20, 20]  \n",
       "897                 39   [10, 10]  \n",
       "898                 16   [10, 10]  \n",
       "899                 15   [25, 25]  "
      ]
     },
     "execution_count": 11,
     "metadata": {},
     "output_type": "execute_result"
    }
   ],
   "source": [
    "df.tail()"
   ]
  },
  {
   "cell_type": "code",
   "execution_count": 50,
   "id": "08564bff-5659-45f4-97fd-6bd326857c6a",
   "metadata": {},
   "outputs": [],
   "source": [
    "a = df['popular_times'][0][1:-1].replace(\"'\",'\"')"
   ]
  },
  {
   "cell_type": "code",
   "execution_count": 53,
   "id": "152df859-1294-4300-81f3-82f4180f1cf1",
   "metadata": {},
   "outputs": [],
   "source": [
    "json_obj = json.loads('['+a+']')"
   ]
  },
  {
   "cell_type": "code",
   "execution_count": 64,
   "id": "7eb3b071-4087-4a62-ac50-b33c89bbbef3",
   "metadata": {},
   "outputs": [
    {
     "data": {
      "image/png": "[encoded data removed]",
      "text/plain": [
       "<Figure size 432x288 with 1 Axes>"
      ]
     },
     "metadata": {
      "needs_background": "light"
     },
     "output_type": "display_data"
    }
   ],
   "source": [
    "plt.plot(json_obj[6]['data'])\n",
    "plt.show()"
   ]
  },
  {
   "cell_type": "code",
   "execution_count": 67,
   "id": "a61761bc-e5ac-4475-a72a-fd0cf8eb1f8f",
   "metadata": {},
   "outputs": [
    {
     "data": {
      "image/png": "[encoded data removed]",
      "text/plain": [
       "<Figure size 432x288 with 1 Axes>"
      ]
     },
     "metadata": {
      "needs_background": "light"
     },
     "output_type": "display_data"
    }
   ],
   "source": [
    "for i in range(5):\n",
    "    plt.plot(json_obj[i]['data'])\n",
    "plt.show()"
   ]
  },
  {
   "cell_type": "code",
   "execution_count": 68,
   "id": "3a6ecb97-3d65-468b-a9d3-465a3ee17350",
   "metadata": {},
   "outputs": [],
   "source": [
    "a = np.array([json_obj[i]['data'] for i in range(5)])"
   ]
  },
  {
   "cell_type": "code",
   "execution_count": 71,
   "id": "ec20257c-b306-4542-8e7e-6f045d8f8497",
   "metadata": {},
   "outputs": [
    {
     "data": {
      "image/png": "[encoded data removed]",
      "text/plain": [
       "<Figure size 432x288 with 1 Axes>"
      ]
     },
     "metadata": {
      "needs_background": "light"
     },
     "output_type": "display_data"
    }
   ],
   "source": [
    "plt.plot(a.mean(axis = 0))\n",
    "plt.show()"
   ]
  },
  {
   "cell_type": "markdown",
   "id": "5eb0ab62-237d-4470-8d5d-57490c0ff2b5",
   "metadata": {},
   "source": [
    "### Assumed that rates are normally distributed"
   ]
  },
  {
   "cell_type": "code",
   "execution_count": 118,
   "id": "6cc21ec9-fb7a-43ed-8e7a-f0f76c858133",
   "metadata": {},
   "outputs": [],
   "source": [
    "l = 0\n",
    "mu = a[l].mean()"
   ]
  },
  {
   "cell_type": "code",
   "execution_count": 119,
   "id": "2bb0849e-c4c1-4795-82fa-7d5b3c5cba7f",
   "metadata": {},
   "outputs": [],
   "source": [
    "std = a[l].std()"
   ]
  },
  {
   "cell_type": "code",
   "execution_count": 120,
   "id": "d8c4a01c-979c-4c15-9f7f-dda6f1c21cf9",
   "metadata": {},
   "outputs": [],
   "source": [
    "def gaussian(x, amplitude, mean, stddev):\n",
    "    return amplitude * np.exp(-((x - mean) / 4 / stddev)**2)\n",
    "\n",
    "x = np.linspace(0, 24, 24)\n",
    "popt, _ = optimize.curve_fit(gaussian, x, a[l])"
   ]
  },
  {
   "cell_type": "code",
   "execution_count": 121,
   "id": "08a3961f-10a1-4f96-baf0-69e5ea396f23",
   "metadata": {},
   "outputs": [
    {
     "data": {
      "image/png": "[encoded data removed]",
      "text/plain": [
       "<Figure size 432x288 with 1 Axes>"
      ]
     },
     "metadata": {
      "needs_background": "light"
     },
     "output_type": "display_data"
    }
   ],
   "source": [
    "plt.plot(x, a[l])\n",
    "plt.plot(x, gaussian(x, *popt))\n",
    "plt.show()"
   ]
  },
  {
   "cell_type": "markdown",
   "id": "206c9066-aebf-42be-ac7d-54fe430beed5",
   "metadata": {},
   "source": [
    "### Process one row at a time"
   ]
  },
  {
   "cell_type": "code",
   "execution_count": 98,
   "id": "0401fa11-b4fb-4def-8bcc-16f025c00e89",
   "metadata": {},
   "outputs": [],
   "source": [
    "weekDays = [\"Monday\",\"Tuesday\",\"Wednesday\",\"Thursday\",\"Friday\",\"Saturday\",\"Sunday\"]"
   ]
  },
  {
   "cell_type": "code",
   "execution_count": 95,
   "id": "38c4fafc-96c1-44b9-8db6-d6ba8e5092a4",
   "metadata": {},
   "outputs": [],
   "source": [
    "row_idx = 0\n",
    "row = df['popular_times'][row_idx][1:-1].replace(\"'\",'\"')\n",
    "json_row_obj = json.loads('['+row+']')"
   ]
  },
  {
   "cell_type": "code",
   "execution_count": 125,
   "id": "5afe47c1-5877-4fba-b4a5-e9d0e46402f0",
   "metadata": {},
   "outputs": [],
   "source": [
    "row_data = []  # mu1,std1,mu2,std2"
   ]
  },
  {
   "cell_type": "code",
   "execution_count": 130,
   "id": "4ef01613-21a0-4966-9bc6-181a8c87e205",
   "metadata": {},
   "outputs": [],
   "source": [
    "day_of_week_idx = 0\n",
    "day_of_week = np.array(json_row_obj[day_of_week_idx]['data'])"
   ]
  },
  {
   "cell_type": "code",
   "execution_count": 133,
   "id": "39b026dc-807c-4878-bd85-b2ace8177968",
   "metadata": {},
   "outputs": [],
   "source": [
    "mu = day_of_week.mean()\n",
    "std = day_of_week.std()\n",
    "\n",
    "row_data.append(mu)\n",
    "row_data.append(std)"
   ]
  },
  {
   "cell_type": "markdown",
   "id": "3d3f7489-cf7d-49c9-a3de-0df6296683e2",
   "metadata": {},
   "source": [
    "# Write in the loop"
   ]
  },
  {
   "cell_type": "code",
   "execution_count": 135,
   "id": "4b20d764-e906-482c-ad14-a058866c44e9",
   "metadata": {},
   "outputs": [],
   "source": [
    "data = []\n",
    "for row_idx in range(len(df)):\n",
    "    row = df['popular_times'][row_idx][1:-1].replace(\"'\",'\"')\n",
    "    json_row_obj = json.loads('['+row+']')\n",
    "    \n",
    "    row_data = []  # mu1,std1,mu2,std2\n",
    "    for day_of_week_idx in range(5):\n",
    "        day_of_week = np.array(json_row_obj[day_of_week_idx]['data'])\n",
    "        mu = day_of_week.mean()\n",
    "        std = day_of_week.std()\n",
    "        row_data.append(mu)\n",
    "        row_data.append(std)\n",
    "    data.append(row_data)\n",
    "data  = np.array(data)"
   ]
  },
  {
   "cell_type": "code",
   "execution_count": 141,
   "id": "bb355279-12d9-4270-a061-c10d7cbd4fbb",
   "metadata": {},
   "outputs": [],
   "source": [
    "col_names = []\n",
    "for week_day in weekDays[:5]:\n",
    "    col_names.append(week_day+'_mean')\n",
    "    col_names.append(week_day+'_std')"
   ]
  },
  {
   "cell_type": "code",
   "execution_count": 142,
   "id": "43686c92-24c1-4d28-b338-563282a60483",
   "metadata": {},
   "outputs": [
    {
     "data": {
      "text/plain": [
       "['Monday_mean',\n",
       " 'Monday_std',\n",
       " 'Tuesday_mean',\n",
       " 'Tuesday_std',\n",
       " 'Wednesday_mean',\n",
       " 'Wednesday_std',\n",
       " 'Thursday_mean',\n",
       " 'Thursday_std',\n",
       " 'Friday_mean',\n",
       " 'Friday_std']"
      ]
     },
     "execution_count": 142,
     "metadata": {},
     "output_type": "execute_result"
    }
   ],
   "source": [
    "col_names"
   ]
  },
  {
   "cell_type": "code",
   "execution_count": 148,
   "id": "f1216815-cbb1-483c-9467-3a28c407dca8",
   "metadata": {},
   "outputs": [],
   "source": [
    "X = pd.DataFrame(data, columns = col_names)"
   ]
  },
  {
   "cell_type": "code",
   "execution_count": 149,
   "id": "b363bbd7-3e53-4be0-9f5a-a8bb46461e90",
   "metadata": {},
   "outputs": [
    {
     "data": {
      "text/html": [
       "<div>\n",
       "<style scoped>\n",
       "    .dataframe tbody tr th:only-of-type {\n",
       "        vertical-align: middle;\n",
       "    }\n",
       "\n",
       "    .dataframe tbody tr th {\n",
       "        vertical-align: top;\n",
       "    }\n",
       "\n",
       "    .dataframe thead th {\n",
       "        text-align: right;\n",
       "    }\n",
       "</style>\n",
       "<table border=\"1\" class=\"dataframe\">\n",
       "  <thead>\n",
       "    <tr style=\"text-align: right;\">\n",
       "      <th></th>\n",
       "      <th>Monday_mean</th>\n",
       "      <th>Monday_std</th>\n",
       "      <th>Tuesday_mean</th>\n",
       "      <th>Tuesday_std</th>\n",
       "      <th>Wednesday_mean</th>\n",
       "      <th>Wednesday_std</th>\n",
       "      <th>Thursday_mean</th>\n",
       "      <th>Thursday_std</th>\n",
       "      <th>Friday_mean</th>\n",
       "      <th>Friday_std</th>\n",
       "    </tr>\n",
       "  </thead>\n",
       "  <tbody>\n",
       "    <tr>\n",
       "      <th>0</th>\n",
       "      <td>13.583333</td>\n",
       "      <td>14.062114</td>\n",
       "      <td>10.333333</td>\n",
       "      <td>11.130539</td>\n",
       "      <td>11.208333</td>\n",
       "      <td>10.747012</td>\n",
       "      <td>11.791667</td>\n",
       "      <td>14.023727</td>\n",
       "      <td>13.583333</td>\n",
       "      <td>16.064756</td>\n",
       "    </tr>\n",
       "    <tr>\n",
       "      <th>1</th>\n",
       "      <td>35.166667</td>\n",
       "      <td>31.090817</td>\n",
       "      <td>39.916667</td>\n",
       "      <td>34.157621</td>\n",
       "      <td>41.791667</td>\n",
       "      <td>35.344706</td>\n",
       "      <td>42.958333</td>\n",
       "      <td>35.152619</td>\n",
       "      <td>38.416667</td>\n",
       "      <td>32.272172</td>\n",
       "    </tr>\n",
       "    <tr>\n",
       "      <th>2</th>\n",
       "      <td>29.166667</td>\n",
       "      <td>25.673700</td>\n",
       "      <td>34.708333</td>\n",
       "      <td>30.605663</td>\n",
       "      <td>40.875000</td>\n",
       "      <td>30.396426</td>\n",
       "      <td>40.208333</td>\n",
       "      <td>31.162182</td>\n",
       "      <td>40.875000</td>\n",
       "      <td>32.743081</td>\n",
       "    </tr>\n",
       "    <tr>\n",
       "      <th>3</th>\n",
       "      <td>29.583333</td>\n",
       "      <td>37.391974</td>\n",
       "      <td>31.791667</td>\n",
       "      <td>39.541096</td>\n",
       "      <td>31.750000</td>\n",
       "      <td>39.317352</td>\n",
       "      <td>31.291667</td>\n",
       "      <td>39.075226</td>\n",
       "      <td>25.416667</td>\n",
       "      <td>32.715843</td>\n",
       "    </tr>\n",
       "    <tr>\n",
       "      <th>4</th>\n",
       "      <td>10.791667</td>\n",
       "      <td>10.372155</td>\n",
       "      <td>11.083333</td>\n",
       "      <td>11.636568</td>\n",
       "      <td>11.208333</td>\n",
       "      <td>10.598660</td>\n",
       "      <td>16.458333</td>\n",
       "      <td>15.337805</td>\n",
       "      <td>12.708333</td>\n",
       "      <td>12.732763</td>\n",
       "    </tr>\n",
       "    <tr>\n",
       "      <th>...</th>\n",
       "      <td>...</td>\n",
       "      <td>...</td>\n",
       "      <td>...</td>\n",
       "      <td>...</td>\n",
       "      <td>...</td>\n",
       "      <td>...</td>\n",
       "      <td>...</td>\n",
       "      <td>...</td>\n",
       "      <td>...</td>\n",
       "      <td>...</td>\n",
       "    </tr>\n",
       "    <tr>\n",
       "      <th>895</th>\n",
       "      <td>35.166667</td>\n",
       "      <td>33.674504</td>\n",
       "      <td>40.541667</td>\n",
       "      <td>39.499978</td>\n",
       "      <td>37.583333</td>\n",
       "      <td>35.743201</td>\n",
       "      <td>37.291667</td>\n",
       "      <td>35.796274</td>\n",
       "      <td>26.333333</td>\n",
       "      <td>31.141701</td>\n",
       "    </tr>\n",
       "    <tr>\n",
       "      <th>896</th>\n",
       "      <td>28.708333</td>\n",
       "      <td>33.019539</td>\n",
       "      <td>34.125000</td>\n",
       "      <td>39.529854</td>\n",
       "      <td>33.375000</td>\n",
       "      <td>39.176750</td>\n",
       "      <td>31.250000</td>\n",
       "      <td>36.095071</td>\n",
       "      <td>29.750000</td>\n",
       "      <td>36.105459</td>\n",
       "    </tr>\n",
       "    <tr>\n",
       "      <th>897</th>\n",
       "      <td>38.958333</td>\n",
       "      <td>27.770607</td>\n",
       "      <td>47.666667</td>\n",
       "      <td>35.731250</td>\n",
       "      <td>42.708333</td>\n",
       "      <td>29.533144</td>\n",
       "      <td>47.791667</td>\n",
       "      <td>33.350386</td>\n",
       "      <td>52.708333</td>\n",
       "      <td>34.454655</td>\n",
       "    </tr>\n",
       "    <tr>\n",
       "      <th>898</th>\n",
       "      <td>28.958333</td>\n",
       "      <td>30.714382</td>\n",
       "      <td>28.000000</td>\n",
       "      <td>32.641997</td>\n",
       "      <td>27.333333</td>\n",
       "      <td>32.607089</td>\n",
       "      <td>29.666667</td>\n",
       "      <td>33.173366</td>\n",
       "      <td>31.375000</td>\n",
       "      <td>35.537319</td>\n",
       "    </tr>\n",
       "    <tr>\n",
       "      <th>899</th>\n",
       "      <td>28.375000</td>\n",
       "      <td>26.172206</td>\n",
       "      <td>29.125000</td>\n",
       "      <td>26.613456</td>\n",
       "      <td>28.875000</td>\n",
       "      <td>26.363347</td>\n",
       "      <td>36.708333</td>\n",
       "      <td>32.808128</td>\n",
       "      <td>34.125000</td>\n",
       "      <td>31.880392</td>\n",
       "    </tr>\n",
       "  </tbody>\n",
       "</table>\n",
       "<p>900 rows × 10 columns</p>\n",
       "</div>"
      ],
      "text/plain": [
       "     Monday_mean  Monday_std  Tuesday_mean  Tuesday_std  Wednesday_mean  \\\n",
       "0      13.583333   14.062114     10.333333    11.130539       11.208333   \n",
       "1      35.166667   31.090817     39.916667    34.157621       41.791667   \n",
       "2      29.166667   25.673700     34.708333    30.605663       40.875000   \n",
       "3      29.583333   37.391974     31.791667    39.541096       31.750000   \n",
       "4      10.791667   10.372155     11.083333    11.636568       11.208333   \n",
       "..           ...         ...           ...          ...             ...   \n",
       "895    35.166667   33.674504     40.541667    39.499978       37.583333   \n",
       "896    28.708333   33.019539     34.125000    39.529854       33.375000   \n",
       "897    38.958333   27.770607     47.666667    35.731250       42.708333   \n",
       "898    28.958333   30.714382     28.000000    32.641997       27.333333   \n",
       "899    28.375000   26.172206     29.125000    26.613456       28.875000   \n",
       "\n",
       "     Wednesday_std  Thursday_mean  Thursday_std  Friday_mean  Friday_std  \n",
       "0        10.747012      11.791667     14.023727    13.583333   16.064756  \n",
       "1        35.344706      42.958333     35.152619    38.416667   32.272172  \n",
       "2        30.396426      40.208333     31.162182    40.875000   32.743081  \n",
       "3        39.317352      31.291667     39.075226    25.416667   32.715843  \n",
       "4        10.598660      16.458333     15.337805    12.708333   12.732763  \n",
       "..             ...            ...           ...          ...         ...  \n",
       "895      35.743201      37.291667     35.796274    26.333333   31.141701  \n",
       "896      39.176750      31.250000     36.095071    29.750000   36.105459  \n",
       "897      29.533144      47.791667     33.350386    52.708333   34.454655  \n",
       "898      32.607089      29.666667     33.173366    31.375000   35.537319  \n",
       "899      26.363347      36.708333     32.808128    34.125000   31.880392  \n",
       "\n",
       "[900 rows x 10 columns]"
      ]
     },
     "execution_count": 149,
     "metadata": {},
     "output_type": "execute_result"
    }
   ],
   "source": [
    "X"
   ]
  },
  {
   "cell_type": "code",
   "execution_count": 150,
   "id": "c505bc57-3590-4b28-bca8-f9c54551e68d",
   "metadata": {},
   "outputs": [
    {
     "data": {
      "text/plain": [
       "array([[13.58333333, 14.06211419, 10.33333333, ..., 14.02372741,\n",
       "        13.58333333, 16.06475611],\n",
       "       [35.16666667, 31.09081679, 39.91666667, ..., 35.15261864,\n",
       "        38.41666667, 32.27217153],\n",
       "       [29.16666667, 25.67370033, 34.70833333, ..., 31.16218216,\n",
       "        40.875     , 32.74308133],\n",
       "       ...,\n",
       "       [38.95833333, 27.77060671, 47.66666667, ..., 33.35038626,\n",
       "        52.70833333, 34.45465518],\n",
       "       [28.95833333, 30.71438204, 28.        , ..., 33.17336616,\n",
       "        31.375     , 35.537319  ],\n",
       "       [28.375     , 26.17220615, 29.125     , ..., 32.80812802,\n",
       "        34.125     , 31.8803917 ]])"
      ]
     },
     "execution_count": 150,
     "metadata": {},
     "output_type": "execute_result"
    }
   ],
   "source": [
    "X.to_numpy()"
   ]
  },
  {
   "cell_type": "code",
   "execution_count": 151,
   "id": "9a7e7784-30de-499a-b27e-5c79a4e21e58",
   "metadata": {},
   "outputs": [],
   "source": [
    "kmeans = KMeans(n_clusters=10, random_state=0).fit(X.to_numpy())"
   ]
  },
  {
   "cell_type": "code",
   "execution_count": null,
   "id": "cfe2a6a3-34e3-4103-a67f-7e840ad66ec1",
   "metadata": {},
   "outputs": [],
   "source": []
  }
 ],
 "metadata": {
  "kernelspec": {
   "display_name": "Python 3 (ipykernel)",
   "language": "python",
   "name": "python3"
  },
  "language_info": {
   "codemirror_mode": {
    "name": "ipython",
    "version": 3
   },
   "file_extension": ".py",
   "mimetype": "text/x-python",
   "name": "python",
   "nbconvert_exporter": "python",
   "pygments_lexer": "ipython3",
   "version": "3.10.0"
  }
 },
 "nbformat": 4,
 "nbformat_minor": 5
}
